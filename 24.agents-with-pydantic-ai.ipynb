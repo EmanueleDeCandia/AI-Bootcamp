{
 "nbformat": 4,
 "nbformat_minor": 0,
 "metadata": {
  "colab": {
   "provenance": [],
   "toc_visible": true
  },
  "kernelspec": {
   "name": "python3",
   "display_name": "Python 3"
  },
  "language_info": {
   "name": "python"
  }
 },
 "cells": [
  {
   "cell_type": "code",
   "execution_count": 1,
   "metadata": {
    "colab": {
     "base_uri": "https://localhost:8080/"
    },
    "id": "CqZkdPIuhbD8",
    "outputId": "effe2664-8919-4bf7-fc9c-53e30792140c"
   },
   "outputs": [
    {
     "output_type": "stream",
     "name": "stdout",
     "text": [
      "\u001b[31mERROR: pip's dependency resolver does not currently take into account all the packages that are installed. This behaviour is the source of the following dependency conflicts.\n",
      "google-colab 1.0.0 requires google-auth==2.27.0, but you have google-auth 2.37.0 which is incompatible.\u001b[0m\u001b[31m\n",
      "\u001b[0m"
     ]
    }
   ],
   "source": [
    "!pip install -Uqqq pip --progress-bar off\n",
    "!pip install -qqq pydantic-ai==0.0.12 --progress-bar off"
   ]
  },
  {
   "cell_type": "code",
   "source": [
    "!gdown 1zXnEv6yiQb39Mb9UQstHGx0vbcWAQHcM"
   ],
   "metadata": {
    "colab": {
     "base_uri": "https://localhost:8080/"
    },
    "id": "_A0pFBJDoXJx",
    "outputId": "281a6c3c-d47f-4f23-ae53-8d5b6a3b4f47"
   },
   "execution_count": 35,
   "outputs": [
    {
     "output_type": "stream",
     "name": "stdout",
     "text": [
      "Downloading...\n",
      "From: https://drive.google.com/uc?id=1zXnEv6yiQb39Mb9UQstHGx0vbcWAQHcM\n",
      "To: /content/app-reviews.db\n",
      "\r  0% 0.00/73.7k [00:00<?, ?B/s]\r100% 73.7k/73.7k [00:00<00:00, 94.8MB/s]\n"
     ]
    }
   ]
  },
  {
   "cell_type": "code",
   "source": [
    "import os\n",
    "import sqlite3\n",
    "import textwrap\n",
    "from dataclasses import dataclass\n",
    "from pathlib import Path\n",
    "from typing import List\n",
    "\n",
    "import nest_asyncio\n",
    "from google.colab import userdata\n",
    "from pydantic import BaseModel, Field\n",
    "from pydantic_ai import Agent, RunContext\n",
    "\n",
    "os.environ[\"OPENAI_API_KEY\"] = userdata.get(\"OPENAI_API_KEY\")\n",
    "\n",
    "DB_PATH = Path(\"./app-reviews.db\")\n",
    "MODEL_NAME = \"openai:gpt-4o-mini\"\n",
    "\n",
    "nest_asyncio.apply()"
   ],
   "metadata": {
    "id": "zx590rajkf9j"
   },
   "execution_count": 2,
   "outputs": []
  },
  {
   "cell_type": "markdown",
   "source": [
    "## Get Reviews"
   ],
   "metadata": {
    "id": "Uz1OeELxos0Q"
   }
  },
  {
   "cell_type": "code",
   "source": [
    "@dataclass\n",
    "class Review:\n",
    "    package_name: str\n",
    "    text: str\n",
    "    rating: int"
   ],
   "metadata": {
    "id": "iysVMPSUtz7j"
   },
   "execution_count": 3,
   "outputs": []
  },
  {
   "cell_type": "code",
   "source": [
    "def fetch_reviews(\n",
    "    min_rating: int,\n",
    "    max_rating: int,\n",
    "    max_reviews: int = 30,\n",
    "    min_words_in_review: int = 8,\n",
    ") -> List[Review]:\n",
    "    with sqlite3.connect(DB_PATH) as conn:\n",
    "        cursor = conn.cursor()\n",
    "        cursor.execute(\n",
    "            \"\"\"\n",
    "            SELECT package_name, review, rating\n",
    "            FROM reviews\n",
    "            WHERE rating >= ?\n",
    "            AND rating <= ?\n",
    "            AND review IS NOT NULL\n",
    "            ORDER BY RANDOM()\n",
    "\"\"\",\n",
    "            (min_rating, max_rating),\n",
    "        )\n",
    "        reviews = []\n",
    "\n",
    "        for package_name, review, rating in cursor.fetchall():\n",
    "            word_count = len(review.split())\n",
    "            if word_count < min_words_in_review:\n",
    "                continue\n",
    "            reviews.append(\n",
    "                Review(package_name=package_name, text=review, rating=rating)\n",
    "            )\n",
    "        return reviews[:max_reviews]"
   ],
   "metadata": {
    "id": "rfkJihC2rKCa"
   },
   "execution_count": 4,
   "outputs": []
  },
  {
   "cell_type": "code",
   "source": [
    "reviews = fetch_reviews(2, 4, max_reviews=10)"
   ],
   "metadata": {
    "id": "_cTQFLImuJqo"
   },
   "execution_count": 5,
   "outputs": []
  },
  {
   "cell_type": "code",
   "source": [
    "reviews[0]"
   ],
   "metadata": {
    "colab": {
     "base_uri": "https://localhost:8080/"
    },
    "id": "VcvM5330uM1J",
    "outputId": "8c33f060-09c6-4644-96eb-7bab544237fb"
   },
   "execution_count": 6,
   "outputs": [
    {
     "output_type": "execute_result",
     "data": {
      "text/plain": [
       "Review(package_name='org.isoron.uhabits', text=\"It's heartbreaking. Please respond. Please fix the Calendar not highlighting for mrasureable habits. The App is failing with most recent update 8/23/23. Measurable habits Issue with Calendar section blocks not highlighting days with mrasureable activity.\", rating=2)"
      ]
     },
     "metadata": {},
     "execution_count": 6
    }
   ]
  },
  {
   "cell_type": "markdown",
   "source": [
    "## Dependencies"
   ],
   "metadata": {
    "id": "iXF84_CNrdni"
   }
  },
  {
   "cell_type": "code",
   "source": [
    "@dataclass\n",
    "class Dependencies:\n",
    "    app_description: str"
   ],
   "metadata": {
    "id": "pQG1R8MgoIFB"
   },
   "execution_count": null,
   "outputs": []
  },
  {
   "cell_type": "markdown",
   "source": [
    "## Agents"
   ],
   "metadata": {
    "id": "nhuhPT-Rrgr_"
   }
  },
  {
   "cell_type": "code",
   "source": [
    "PRODUCT_IMPROVEMENT_PROMPT = \"\"\"\n",
    "You help app developers and product managers identify areas for improvement based\n",
    "on user feedback.\n",
    "\"\"\".strip()\n",
    "\n",
    "\n",
    "class ProductImprovementResult(BaseModel):\n",
    "    issues: List[str] = Field(\n",
    "        description=\"Prioritized list of common bugs or issues (e.g., 'app crashes on startup')\"\n",
    "    )\n",
    "    feature_requests: List[str] = Field(\n",
    "        description=\"Suggest top requested features (e.g., 'add dark mode')\"\n",
    "    )\n",
    "\n",
    "\n",
    "improvement_agent = Agent(\n",
    "    MODEL_NAME,\n",
    "    deps_type=Dependencies,\n",
    "    result_type=ProductImprovementResult,\n",
    "    system_prompt=PRODUCT_IMPROVEMENT_PROMPT,\n",
    ")"
   ],
   "metadata": {
    "id": "et_UIKEELE5a"
   },
   "execution_count": 7,
   "outputs": []
  },
  {
   "cell_type": "code",
   "source": [
    "MARKETING_PROMPT = \"\"\"\n",
    "You're marketer that focuses on engaging mobile app users.\n",
    "You have a nag for writing clear and focused marketing copy.\n",
    "\"\"\".strip()\n",
    "\n",
    "\n",
    "class MarketingResult(BaseModel):\n",
    "    praised_features: List[str] = Field(\n",
    "        description=\"Prioritized list of features that users praise the most. . One item per line.\"\n",
    "    )\n",
    "    important_phrases: List[str] = Field(\n",
    "        description=\"List of phrases that the marketing team should include in the copy. One item per line.\"\n",
    "    )\n",
    "\n",
    "\n",
    "marketing_agent = Agent(\n",
    "    MODEL_NAME,\n",
    "    deps_type=Dependencies,\n",
    "    result_type=MarketingResult,\n",
    "    system_prompt=MARKETING_PROMPT,\n",
    ")"
   ],
   "metadata": {
    "id": "E_tgaEEDe80U"
   },
   "execution_count": 8,
   "outputs": []
  },
  {
   "cell_type": "code",
   "source": [
    "class PlanningResult(BaseModel):\n",
    "    app_names: List[str] = Field(description=\"List of suggested app names\")\n",
    "    marketing_copy: str = Field(\n",
    "        description=\"Marketing copy of the app to build. 2-3 paragraphs at most\"\n",
    "    )\n",
    "    mvp_features: List[str] = Field(\n",
    "        description=\"List of features to include in the MVP of the app\"\n",
    "    )\n",
    "    possible_issues: List[str] = Field(\n",
    "        description=\"Prioritized list of possible bugs that might come up during development\"\n",
    "    )\n",
    "\n",
    "\n",
    "planner_agent = Agent(MODEL_NAME, deps_type=Dependencies, result_type=PlanningResult)"
   ],
   "metadata": {
    "id": "LY1wWIs2wdmt"
   },
   "execution_count": 9,
   "outputs": []
  },
  {
   "cell_type": "code",
   "source": [
    "@planner_agent.system_prompt\n",
    "async def get_system_prompt(ctx: RunContext[Dependencies]) -> str:\n",
    "    return f\"\"\"\n",
    "You're planning an MVP for new {ctx.deps.app_description} app. You'll propose\n",
    "the best possible way to approach the process of building it.\n",
    "\"\"\".strip()"
   ],
   "metadata": {
    "id": "Ge2C1RH7PgzL"
   },
   "execution_count": 11,
   "outputs": []
  },
  {
   "cell_type": "markdown",
   "source": [
    "## Tools"
   ],
   "metadata": {
    "id": "6s7Yi7VF43D2"
   }
  },
  {
   "cell_type": "code",
   "source": [
    "@improvement_agent.tool\n",
    "def get_improvement_reviews(\n",
    "    ctx: RunContext[Dependencies], min_rating: int, max_rating: int\n",
    ") -> List[str]:\n",
    "    \"\"\"Get reviews for within a specified rating\n",
    "\n",
    "    Args:\n",
    "        min_rating: the low range of the ratings (inclusive). Between 1 and 5.\n",
    "        max_rating: the high range of the ratings (inclusive). Between 1 and 5.\n",
    "    \"\"\"\n",
    "    return fetch_reviews(min_rating, max_rating)"
   ],
   "metadata": {
    "id": "SHpzRB5HxmPl"
   },
   "execution_count": 12,
   "outputs": []
  },
  {
   "cell_type": "code",
   "source": [
    "@marketing_agent.tool\n",
    "def get_marketing_reviews(\n",
    "    ctx: RunContext[Dependencies], min_rating: int, max_rating: int\n",
    ") -> List[str]:\n",
    "    \"\"\"Get reviews for within a specified rating\n",
    "\n",
    "    Args:\n",
    "        min_rating: the low range of the ratings (inclusive). Between 1 and 5.\n",
    "        max_rating: the high range of the ratings (inclusive). Between 1 and 5.\n",
    "    \"\"\"\n",
    "    return fetch_reviews(min_rating, max_rating)"
   ],
   "metadata": {
    "id": "h1gVbIK_ufwm"
   },
   "execution_count": 13,
   "outputs": []
  },
  {
   "cell_type": "markdown",
   "source": [
    "## Run Agents"
   ],
   "metadata": {
    "id": "bnMuY2MA7fIU"
   }
  },
  {
   "cell_type": "code",
   "source": [
    "deps = Dependencies(\n",
    "    app_description=\"Todo/habit tracking app with focus on personal development\"\n",
    ")"
   ],
   "metadata": {
    "id": "GEnALIjF0Zou"
   },
   "execution_count": 14,
   "outputs": []
  },
  {
   "cell_type": "code",
   "source": [
    "%%time\n",
    "improvement_result = improvement_agent.run_sync(\n",
    "    \"Analyze the reviews for possible improvements\", deps=deps\n",
    ")"
   ],
   "metadata": {
    "colab": {
     "base_uri": "https://localhost:8080/"
    },
    "id": "bDK3RrEtvMrk",
    "outputId": "8178d389-7df1-4e1e-f074-839b7091de2f"
   },
   "execution_count": 15,
   "outputs": [
    {
     "output_type": "stream",
     "name": "stdout",
     "text": [
      "CPU times: user 111 ms, sys: 12.5 ms, total: 123 ms\n",
      "Wall time: 3.21 s\n"
     ]
    }
   ]
  },
  {
   "cell_type": "code",
   "source": [
    "for item in improvement_result.new_messages():\n",
    "    print(item)"
   ],
   "metadata": {
    "colab": {
     "base_uri": "https://localhost:8080/"
    },
    "id": "TUlQSg3rwq8o",
    "outputId": "a66d0be7-7fca-4f86-c028-fc459fbfd4b2"
   },
   "execution_count": 16,
   "outputs": [
    {
     "output_type": "stream",
     "name": "stdout",
     "text": [
      "UserPrompt(content='Analyze the reviews for possible improvements', timestamp=datetime.datetime(2024, 12, 12, 20, 40, 5, 521964, tzinfo=datetime.timezone.utc), role='user')\n",
      "ModelStructuredResponse(calls=[ToolCall(tool_name='get_improvement_reviews', args=ArgsJson(args_json='{\"min_rating\": 1, \"max_rating\": 3}'), tool_id='call_YU3Zdp1ojtdklENRm2Q1lKOY'), ToolCall(tool_name='get_improvement_reviews', args=ArgsJson(args_json='{\"min_rating\": 4, \"max_rating\": 4}'), tool_id='call_GAMgfvZJiBINEMt3G0ODW89U')], timestamp=datetime.datetime(2024, 12, 12, 20, 40, 5, tzinfo=datetime.timezone.utc), role='model-structured-response')\n",
      "ToolReturn(tool_name='get_improvement_reviews', content=[Review(package_name='org.isoron.uhabits', text=\"- The settings are limited, for the frequency of the habit, the options are only: everyday, every week, every month, NO SPECIFICATIONS. - No icons, it looks simple but I was hoping some added beauty to it. - Just read a review here and now I'm also scared of losing my data after a year of using. - Will probably come back to the app, if it widens it specifications.\", rating=1), Review(package_name='org.isoron.uhabits', text=\"I have been looking for an app to help me keep track of things. I have things that only need to be done on certain days but I can't set the days. I can pick 3 times a week but I can't specify Monday, Wednesday, Friday as the 3 days making this app completely useless as it sends reminders every day for things I don't do every day. Poor design in my opinion. What is the point of being able to set reminders to track activities but you can't pick when they are needed to be done.\", rating=1), Review(package_name='com.finch.finch', text=\"New rewards push monetary purchases and subscriptions. It's a really really good app that could take notes from apps like Path of Exile. Free to use with fun micro transactions that do not hinder the use of the app\", rating=3), Review(package_name='com.habitnow', text=\"Erases everything if I rotate screen/tap outside a text field/screen goes off! Can't switch to Recurring Task/Habit when adding a Task. Committed to picking either Task, Recurring Task or Habit from the start! Can only add Tasks from the widget. Prefer to see Notes/Desc when tapping an item in the widget - why have the tick mark circle now? It serves no purpose. Note/Desc behind too many taps. Handy if I could tap an item (instead of the circle) in the widget for this. Web version would be nice!\", rating=2), Review(package_name='org.isoron.uhabits', text=\"Downgraded my review since using this app for more than a year now ... some significant problems ... the app does not retain your data beyond 1 year, I have lost a lot of data, which is extremely frustrating. Export to CSV function does not export any notes you make. I have had no response to these issues. I will be looking for an alternative app. It's such a shame as otherwise I really liked this app.\", rating=1), Review(package_name='com.finch.finch', text=\"I lowered my rating because the app has become so difficult to use since there was an update which added a bunch of visual and audio effects which not only are incredibly irritating to experience with the eyes and ears but also cause so much lag that it impedes basic functionality. I had to turn off sounds in the app completely, which is sad and shouldn't be necessary. And there is no fixing the lag on my end. Y'all really messed this app up and it's so sad.\", rating=3), Review(package_name='com.finch.finch', text=\"I had to get a new phone and now this app is telling me my account doesn't exist. Please explain this. How do I get my bird back??\", rating=2), Review(package_name='com.finch.finch', text='I was into it, but then they gave a free trial of the \"plus\" version. It was so much more engaging that I lost interest in the free version. This will sound dumb, but it\\'s the little decorations that kept me interested; the selection for the free version sucks. I was going to pay for it, but it\\'s almost $10 per month. If there were a cheaper version, I\\'d buy it, but now I\\'m neither paying nor playing the free version.', rating=2), Review(package_name='com.finch.finch', text=\"It's hard to navigate at times. Homespun haven is my favorite so far. Thank you all for that you do. I'd really like additional help for high anxiety and panic attacks. Thank you.\", rating=3), Review(package_name='com.habitnow', text='One of biggest issue is it doesnot show Sucess Graph or growth rate for daily task and routine Example if I done 3 task it should show me some growth and day after day But it doesnot 3 star', rating=2), Review(package_name='com.finch.finch', text=\"I loved this app and I used it for over 600 days. I swapped over phones and lost over a month of items. I lost my 145 day streak. I had the subscription for more than a full year and they couldn't do anything but give me 30 items for ALL I've lost. I'm genuinely so upset\", rating=1), Review(package_name='org.isoron.uhabits', text=\"Widgets freeze often. Those are the main reason I use the app. There is no way to fix the widgets without restarting the phone, and you don't know how long that solution will last before having to do it again. Edit: Dropped from 2 to 1 star. Just can't get past the widgets almost never working.\", rating=1), Review(package_name='org.isoron.uhabits', text='Although your works is commendable but it lacks some features which should be integrated like , it should be linked with Google account or something suppose if am to delete this apk or I have to erase my phone than how will I track by progress my current streak or my database ,the substitue you gave to it is not that relevant.', rating=3), Review(package_name='org.isoron.uhabits', text=\"Can you add an option to have the old out of app scroll value system back? I used to just click a widget on my home screen but now it makes me open the app and have to go through a huge list and adjust values slowly. The new notes system doesn't indicate units either\", rating=2), Review(package_name='com.habitnow', text='Pleas neveerrr download this just demo app becuse premium app cosider we wnat', rating=1), Review(package_name='com.habitnow', text=\"I'm missing a screen which prompts me to do my habits in order, such as for morning routine. Ideally, I would love an alarm that then prompts me for each of the assigned habits (for time / done / counts...). -1⭐ The app asks to put 5⭐ reviews only if you like it. - 1⭐ Otherwise HabitNow is pretty good! Would recommend if it fits your needs.\", rating=3), Review(package_name='org.isoron.uhabits', text='Everything is fine but for me it seems that graph which depicts score is not accurate, e.g if i have set a goal of studying at least 6hrs and today i studied 7hr still it shows 20%', rating=3), Review(package_name='org.isoron.uhabits', text='Is very bad about date to pick up when you want habit happens', rating=2), Review(package_name='com.finch.finch', text='I spent 602 daily expeditions with my birb. I had a paid version and/or was granted a guardian upgrade. This became so very overwhelming with all the confetti, colors, pop-ups, and whatnot. Buying clothes for the birb and designing their room is not a big motivator for me because that is not a long term value. Please embrace simplicity of design and/or grant more control to users. Confetti nonsense for EVERY completed task is overkill. Tree town was not embraced by my friends and family.', rating=3), Review(package_name='com.habitnow', text='পুনরাবৃত্তি কাজ গুলো বিনামূল্যে আনলিমিটেড যোগ করা গেলে আমি পাচঁটি রেটিং দিবো।', rating=1), Review(package_name='org.isoron.uhabits', text=\"Man why did you increase the widget size from 1x1 to 1x2. It's practically unusable now.\", rating=1), Review(package_name='com.finch.finch', text='I just downloaded this app and used it for like 5 min and it no longer works. Whenever I try to launch it I just get a forever black screen. I have tried resetting the app and my phone.', rating=1), Review(package_name='com.habitnow', text='limits the amount of tasks you can have unless you have premium. it feels almost useless if you want to use it for free', rating=2), Review(package_name='com.finch.finch', text=\"Looks like it could be a helpful app. Deceptively they make you do all the sign up before they tell you it's $40 a year. This is only a 7 day trial. Immediately deleted. Good idea though. It seems it's $ > people.\", rating=2), Review(package_name='org.isoron.uhabits', text='There is no place that says: \"Old data is available just for TWO months, and will be deleted automatically\". Have been using it for 4 months, now completely useless since the data for two months is not available.', rating=1), Review(package_name='com.finch.finch', text='this is a cute app and no ads! also it is a self care app! Edit: never mind', rating=1), Review(package_name='com.habitnow', text=\"My notifications are not working. I see the high potential of the app but can't access it's benefits. Help please.\", rating=2), Review(package_name='com.habitnow', text=\"While I truly appreciate this app for all its many benefits, I have encountered difficulties transferring information to my other devices. The other devices don't recognize that I purchased the premium version and the other devices receive the app transfer as the free version which does not allow me to transfer my information from the original purchased app. If not for this flaw, I would give this app 5 stars for all the great benefits it has provided me. Thanks.\", rating=3), Review(package_name='com.finch.finch', text=\"Secretly homophobic, Trump loving dev studio that gets special permission to delete critical reviews. Mine was simply gone when I came back to check if they'd done anything about my complaints, but apparently the biggest source if stress for half the damn planet is also a banned topic in their public forums so obviously the rot runs deep.\", rating=1), Review(package_name='com.habitnow', text='As a User I have set an Alarm for habit. Next when Alarm rings and I unattended it keeps ringing even after 15-20 mins even 1 hour. For example if the phone is in another room and I am not aware of the Alarm, it keeps ringing and ringing. Cause: It drains battery and impact performance. Please fix it asap. Thanks.', rating=2)], tool_id='call_YU3Zdp1ojtdklENRm2Q1lKOY', timestamp=datetime.datetime(2024, 12, 12, 20, 40, 6, 694528, tzinfo=datetime.timezone.utc), role='tool-return')\n",
      "ToolReturn(tool_name='get_improvement_reviews', content=[Review(package_name='com.finch.finch', text=\"I just wish the premium was free! otherwise it would get 5 stars. I'm so new in recovery from fentanyl and meth and this app has been a godsend for me. I have spread the word to my process groups in my intensive outpatient Treatment and I've shares it with my counselors to share with others this app has helped me remain sober these last 3 months as I just celebrated 90 days last week. keep more coming for this app please and try to make it more reasonable I know you are trying but please help\", rating=4), Review(package_name='org.isoron.uhabits', text='PERFECT APP (4 stars because I wish there was a web version and syncing between devices)', rating=4), Review(package_name='com.finch.finch', text=\"What a wonderful app! Your Finch is adorable! I wish we could interact more, feed or play games with the finch. My only other qualm is the pricing, without dping 300 goals a day, it's difficult to get anything fun from the shops. Unless you pay for premium... Maybe if there was a family pack deal or if it was less than $60. Maybe once things calm down, or if they lower the pricing. Then I'll gove 5 star.\", rating=4), Review(package_name='com.habitnow', text='Using it and really best task management app', rating=4), Review(package_name='org.isoron.uhabits', text='This one is clearly the best... BUT !!! This app desperately needs a landscape mode, and I just can\\'t imagine a reason why it doesn\\'t have it. And NO you cannot put your phone in the \"landscape mode\" because that changes EVERYTHING on your phone to landscape! This app clearly works much better in landscape mode, why it doesn\\'t have a toggle switch for that is beyond my ability to reason.', rating=4), Review(package_name='com.finch.finch', text='Has some small issues from time to time. But a great app overall. Keeps me from procrastinating and encourages me to do things. 90/100', rating=4), Review(package_name='com.habitnow', text=\"Finally! A schedule app that's being user-friendly in the first few minutes!! This is the FIRST TIME an app of this category wasn't overly obsessive with trying to get users to buy their subscriptions everytime they click on a feature they weren't told was premium only. This should be the golden standard, but I still applaud this app for it lol. I've only given it 4 stars for now because I've only just tried the app, but if I'm still using this in a few days, I'll be sure to change it to 5 :>\", rating=4), Review(package_name='com.habitnow', text='App is cool, good for tracking habits, free version itself is enough but if you are a highly anxious person with procrastination, u r at the ryt place', rating=4), Review(package_name='com.habitnow', text='Nice app but still have something which can be more better. Still good to use it best to track habbits', rating=4), Review(package_name='com.finch.finch', text=\"I really love this app so far. It's so fun and cute. It motivates me to get out of bed and be productive. There are goals to complete, you can play with friends, and it's relaxing! I upgraded to the premium version. My only issue is if I miss a day, I can't do anything to make up for the daily rewards. I wish there were a way that I could do extra tasks or goals to get the daily reward boxes for day I missed.\", rating=4), Review(package_name='org.isoron.uhabits', text='this application is really good but I really need a daily percentage not separately for each habit. please add it.', rating=4), Review(package_name='com.finch.finch', text='I love the app personally me and my friend has it we love it her name is snowey♡', rating=4), Review(package_name='org.isoron.uhabits', text='Love the simplicity of this app, especially the checkbox widget! the only thing missing would be a to-do list for punctual tasks. just to have everything in one app.', rating=4), Review(package_name='com.habitnow', text=\"Very good but it doesn't average across all tasks. But apart from that it is exactly what I wanted. All the other apps have far too many bells and whistles but seem to forget their primary purpose - tracking habits.\", rating=4), Review(package_name='com.habitnow', text='nice application but do v have \"stick to notification\" option? i didn\\'t c it. its very important for me.', rating=4), Review(package_name='com.finch.finch', text='this game is amazing!! you can dress your penguin and get some routines done too!', rating=4), Review(package_name='org.isoron.uhabits', text=\"It's better than most of the habit tracking apps. The Minimalist design is really good. Only if it had some other options such as progress saving and others it'd have been really great.\", rating=4), Review(package_name='com.habitnow', text='Still new to the app but so far so good. Enjoying the simplicity to it. Will update review after a proper trial run', rating=4), Review(package_name='com.finch.finch', text='Alright, keeping this short n sweet, this app.is AMAZING but id say adding a calender for woman to track thier periods would be VERY useful! Thx!', rating=4), Review(package_name='com.finch.finch', text=\"I adore this app, but I can't afford Plus, as it only bills yearly. im unemployed, and while I may be able to get enough monthly I simply cannot get a whole years subscription for the price. wish there were more options as the free trial of Finch Plus was a greatly enjoyed experience and the extra activities, goal ideas and interactions with friends really helped to encourage me.\", rating=4), Review(package_name='com.finch.finch', text=\"Been using this since February of 2022. Absolutely love my Finch, the app always works well. Though I do feel the app is becoming a bit... complicated? There's just a lot going on now. But it's still the cutest to do list and mood checker I've ever had, so.\", rating=4), Review(package_name='org.isoron.uhabits', text=\"The only thing it lacks is that we can't assign/select a particular date to a particular task like we can do with week.\", rating=4), Review(package_name='org.isoron.uhabits', text='Looks like a great reminder app for things that happen at most once per day. Simple yet customizable. Unfortunately, I want to use it for tracking meds multiple times per day. I thought about setting multiple habits (e.g. Meds 1, Meds 2) each with a different reminder time. But I want to get a reminder X hours after the last time I took meds, not the same time every day. And it should max out at N reminders per day, not keep reminding me forever. Seems like no app on earth does that...', rating=4), Review(package_name='com.finch.finch', text='Very cute app, but I stopped using it a long while ago and recently came back. The forest of people is gone? The price went up? Finch also seems to have implemented streaks and used a lot of wording that reminds me of Duolingo far too much. I love this app, but it seems to have gone downhill.', rating=4), Review(package_name='com.finch.finch', text=\"Amazing self care app I love it it's so cute it doesn't really help much in my opinion but it has helped lots of other people what I think Finch could of done was add things like cooking and feeding ur pet, and bathing them and letting them go places like the mall etc even tho you can let your birb explore and adventure it isn't the same as letting them go to the mall or a restaurant and seeing the places they go to they just tell you where they went but anyway it's a cozy app too best app ever\", rating=4), Review(package_name='com.finch.finch', text='Just getting started helps to focus where I need to work on', rating=4), Review(package_name='com.finch.finch', text=\"It won't update. I still can't send furniture.\", rating=4), Review(package_name='com.habitnow', text=\"It's amazing, I just want it for my watch too\", rating=4), Review(package_name='com.habitnow', text=\"It's a really great app. But I only minus point is that it limits the amount of tasks.\", rating=4), Review(package_name='com.habitnow', text='दिस इस सो फेयर दिसत इस सो गुड जबसे मिनी है ॲप युज किया है मेरा स्टडी टाईम एकदम रेगुलरली मिस टाइम टू टाइम स्टडी कर रही हो इस सो गुड 🙏', rating=4)], tool_id='call_GAMgfvZJiBINEMt3G0ODW89U', timestamp=datetime.datetime(2024, 12, 12, 20, 40, 6, 695551, tzinfo=datetime.timezone.utc), role='tool-return')\n",
      "ModelStructuredResponse(calls=[ToolCall(tool_name='final_result', args=ArgsJson(args_json='{\"issues\":[\"Data loss after one year of use\",\"Limited customization for habit reminders\",\"App crashes or freezes\",\"Lack of account transfer functionality between devices\",\"Poor widget functionality - frequently freezing\",\"Inadequate notification handling\",\"High premium pricing with limited features in the free version\"],\"feature_requests\":[\"Add ability to specify exact days for reminders\",\"Implement data retention beyond one year\",\"Introduce a simple design option without excessive animations\",\"Syncing capability across devices\",\"Landscaping mode support\",\"Option to assign a specific date to each task\",\"Add a daily percentage tracking feature\"]}'), tool_id='call_NNETwR565Ia3N1P00fJeODZq')], timestamp=datetime.datetime(2024, 12, 12, 20, 40, 6, tzinfo=datetime.timezone.utc), role='model-structured-response')\n",
      "ToolReturn(tool_name='final_result', content='Final result processed.', tool_id='call_NNETwR565Ia3N1P00fJeODZq', timestamp=datetime.datetime(2024, 12, 12, 20, 40, 8, 734231, tzinfo=datetime.timezone.utc), role='tool-return')\n"
     ]
    }
   ]
  },
  {
   "cell_type": "code",
   "source": [
    "for item in improvement_result.data.issues:\n",
    "    print(f\"- {item}\")"
   ],
   "metadata": {
    "colab": {
     "base_uri": "https://localhost:8080/"
    },
    "id": "-kZDFEKovXML",
    "outputId": "547c1d1a-f0bb-442e-c491-5f97fad13dca"
   },
   "execution_count": 17,
   "outputs": [
    {
     "output_type": "stream",
     "name": "stdout",
     "text": [
      "- Data loss after one year of use\n",
      "- Limited customization for habit reminders\n",
      "- App crashes or freezes\n",
      "- Lack of account transfer functionality between devices\n",
      "- Poor widget functionality - frequently freezing\n",
      "- Inadequate notification handling\n",
      "- High premium pricing with limited features in the free version\n"
     ]
    }
   ]
  },
  {
   "cell_type": "code",
   "source": [
    "for item in improvement_result.data.feature_requests:\n",
    "    print(f\"- {item}\")"
   ],
   "metadata": {
    "colab": {
     "base_uri": "https://localhost:8080/"
    },
    "id": "XiNXldD_vppu",
    "outputId": "f0e365f9-afb0-438b-91a5-735bb79a4be5"
   },
   "execution_count": 18,
   "outputs": [
    {
     "output_type": "stream",
     "name": "stdout",
     "text": [
      "- Add ability to specify exact days for reminders\n",
      "- Implement data retention beyond one year\n",
      "- Introduce a simple design option without excessive animations\n",
      "- Syncing capability across devices\n",
      "- Landscaping mode support\n",
      "- Option to assign a specific date to each task\n",
      "- Add a daily percentage tracking feature\n"
     ]
    }
   ]
  },
  {
   "cell_type": "code",
   "source": [
    "%%time\n",
    "marketing_result = marketing_agent.run_sync(\n",
    "    \"Prepare marketing materials based on the reviews\", deps=deps\n",
    ")"
   ],
   "metadata": {
    "colab": {
     "base_uri": "https://localhost:8080/"
    },
    "id": "5tpPd-iQxxkS",
    "outputId": "14e5b555-2893-4363-8389-0a6bccf76bc9"
   },
   "execution_count": 19,
   "outputs": [
    {
     "output_type": "stream",
     "name": "stdout",
     "text": [
      "CPU times: user 87.5 ms, sys: 3.22 ms, total: 90.8 ms\n",
      "Wall time: 3.96 s\n"
     ]
    }
   ]
  },
  {
   "cell_type": "code",
   "source": [
    "for item in marketing_result.new_messages():\n",
    "    print(item)"
   ],
   "metadata": {
    "colab": {
     "base_uri": "https://localhost:8080/"
    },
    "id": "Y8wnG5tFx6JH",
    "outputId": "1a9816e3-e269-43ee-8c57-15c658ce81df"
   },
   "execution_count": 20,
   "outputs": [
    {
     "output_type": "stream",
     "name": "stdout",
     "text": [
      "UserPrompt(content='Prepare marketing materials based on the reviews', timestamp=datetime.datetime(2024, 12, 12, 20, 40, 17, 689082, tzinfo=datetime.timezone.utc), role='user')\n",
      "ModelStructuredResponse(calls=[ToolCall(tool_name='get_marketing_reviews', args=ArgsJson(args_json='{\"min_rating\": 4, \"max_rating\": 5}'), tool_id='call_SdyOMr7F4DeRk4WCAjBj1bO4'), ToolCall(tool_name='get_marketing_reviews', args=ArgsJson(args_json='{\"min_rating\": 1, \"max_rating\": 3}'), tool_id='call_mXDntRxVCOFSEhTDW5BmIdWy')], timestamp=datetime.datetime(2024, 12, 12, 20, 40, 17, tzinfo=datetime.timezone.utc), role='model-structured-response')\n",
      "ToolReturn(tool_name='get_marketing_reviews', content=[Review(package_name='com.finch.finch', text='Really good app. I love my micropet, and she provides a lot of self care facilities, which are helping me through dark days. Thank you so much to the developers for this light in the darkness 🙏😊', rating=5), Review(package_name='com.finch.finch', text=\"Been using this since February of 2022. Absolutely love my Finch, the app always works well. Though I do feel the app is becoming a bit... complicated? There's just a lot going on now. But it's still the cutest to do list and mood checker I've ever had, so.\", rating=4), Review(package_name='com.finch.finch', text='I loved this app very much tho the things are bother me is that the list of things will remix like I put \"eat dinner, brush teeth, free time, brush teeth, sleep\" the next day it will become \"brush teeth, brush teeth, sleep, free time eat dinner.\" I hate when this happen.', rating=4), Review(package_name='com.finch.finch', text='Just getting started helps to focus where I need to work on', rating=4), Review(package_name='com.finch.finch', text=\"It's a fun way to take care of myself every day.\", rating=5), Review(package_name='org.isoron.uhabits', text=\"So far it's a great app and it's on time. I just wish that it acts as an alarm and keep reminding me until I hit the checkmark, dismiss or snooze it. Also I wish that for the days a week I can o pick the days manually\", rating=4), Review(package_name='com.finch.finch', text='This is a super fun game and I love it!', rating=5), Review(package_name='com.habitnow', text=\"It's a functional, straightforward planner. It has a calendar and lets you make lists you can mark off as you go so you remember important things.\", rating=4), Review(package_name='com.finch.finch', text=\"Really helps me stay on track every day. I honestly didn't think anything would. But this cute lil app has me logging in every day to make sure I get my tasks done so my finch is happy lol.\", rating=5), Review(package_name='org.isoron.uhabits', text=\"THE REASON I really like this app among all habit trackers is because it has a simple minimalistic design that serves to the point, also tracks streak and stats etc. The only feature I'd like to have is sync of habits tracking to multiple devices connected to the same account. So, I'd really like to have log in feature and sync option in the app. Please look forward to it 🙏🏻\", rating=5), Review(package_name='com.finch.finch', text='Love this! Just wish we could save more than just two home styles without having to pay premium. But very brilliant app!', rating=4), Review(package_name='org.isoron.uhabits', text='Loved it. Add a share button for the app as well as for individual habits', rating=5), Review(package_name='org.isoron.uhabits', text='this application is really good but I really need a daily percentage not separately for each habit. please add it.', rating=4), Review(package_name='com.finch.finch', text=\"It's awesome but why can't I pet my friends' birds??\", rating=4), Review(package_name='org.isoron.uhabits', text=\"The only thing it lacks is that we can't assign/select a particular date to a particular task like we can do with week.\", rating=4), Review(package_name='com.finch.finch', text=\"Amazing self care app I love it it's so cute it doesn't really help much in my opinion but it has helped lots of other people what I think Finch could of done was add things like cooking and feeding ur pet, and bathing them and letting them go places like the mall etc even tho you can let your birb explore and adventure it isn't the same as letting them go to the mall or a restaurant and seeing the places they go to they just tell you where they went but anyway it's a cozy app too best app ever\", rating=4), Review(package_name='org.isoron.uhabits', text=\"It's better than most of the habit tracking apps. The Minimalist design is really good. Only if it had some other options such as progress saving and others it'd have been really great.\", rating=4), Review(package_name='com.habitnow', text='Using it and really best task management app', rating=4), Review(package_name='com.habitnow', text=\"Very good but it doesn't average across all tasks. But apart from that it is exactly what I wanted. All the other apps have far too many bells and whistles but seem to forget their primary purpose - tracking habits.\", rating=4), Review(package_name='com.habitnow', text='Love the app! Is it please possible to add an option to create tasks without date?', rating=5), Review(package_name='com.habitnow', text=\"Has all the features you'd want but unfortunately keeps some of the more useful ones behind a premium purchase. I'd want to fully see the benefit of easily tracking my habits with this before I drop money on it.\", rating=4), Review(package_name='com.finch.finch', text=\"I just wish the premium was free! otherwise it would get 5 stars. I'm so new in recovery from fentanyl and meth and this app has been a godsend for me. I have spread the word to my process groups in my intensive outpatient Treatment and I've shares it with my counselors to share with others this app has helped me remain sober these last 3 months as I just celebrated 90 days last week. keep more coming for this app please and try to make it more reasonable I know you are trying but please help\", rating=4), Review(package_name='com.habitnow', text='दिस इस सो फेयर दिसत इस सो गुड जबसे मिनी है ॲप युज किया है मेरा स्टडी टाईम एकदम रेगुलरली मिस टाइम टू टाइम स्टडी कर रही हो इस सो गुड 🙏', rating=4), Review(package_name='com.finch.finch', text='Alright, keeping this short n sweet, this app.is AMAZING but id say adding a calender for woman to track thier periods would be VERY useful! Thx!', rating=4), Review(package_name='com.finch.finch', text='I love the app personally me and my friend has it we love it her name is snowey♡', rating=4), Review(package_name='com.habitnow', text='Best. Simple app that helps you to track your target routine', rating=5), Review(package_name='com.habitnow', text='Awesome, need minor changes such as reminder option shortcut for tomorrow not select manually from the calendar and these kind of minor improvements can make this app one of the best and replace if tasks will improved it can replace my ms to do', rating=4), Review(package_name='org.isoron.uhabits', text='nice app, I love it.👍 Some times we need to set a reminder 2-3 times a day for same one task then there should be a arrangement of grouping of task or setting reminder more than once in a day like reminder for drinking water , taking break from work etc', rating=5), Review(package_name='org.isoron.uhabits', text='Except the bug where non dissmissble notifications can be in fact dissmissed, it is great', rating=4), Review(package_name='com.finch.finch', text='Very cute app, but I stopped using it a long while ago and recently came back. The forest of people is gone? The price went up? Finch also seems to have implemented streaks and used a lot of wording that reminds me of Duolingo far too much. I love this app, but it seems to have gone downhill.', rating=4)], tool_id='call_SdyOMr7F4DeRk4WCAjBj1bO4', timestamp=datetime.datetime(2024, 12, 12, 20, 40, 18, 975034, tzinfo=datetime.timezone.utc), role='tool-return')\n",
      "ToolReturn(tool_name='get_marketing_reviews', content=[Review(package_name='com.habitnow', text=\"I paid for the premium version, but I find it very chaotic. If you update an entry, then you can't see the previous entries anymore as they get archived in a different file. Also I find the colour of the completed activities very confusing as I cannot change the tick to a colour I want, so I can't work out what days I completed the habits by looking at the calendar as there are 3 different colours. It's very complicated and confusing.\", rating=2), Review(package_name='com.finch.finch', text=\"I was trying to delete my data but it didn't let me\", rating=1), Review(package_name='com.finch.finch', text=\"It is a cute app that's addictive at first but then becomes boring, especially after your pet becomes an adult, and paying such a high price a month for access to what by then could be called a glorified checklist is not really worth it unless spending $$ makes you feel better. the game elements can feel like they were given half-effort (the micropets, for example. I got 5 in a row that are the same color and not creatively named) and the best elements are behind a pay wall.\", rating=2), Review(package_name='org.isoron.uhabits', text=\"good app but i'm really confused why you can't have notifications as often as you need to do the task. like, i could have a task that repeats every 40 days but still i have to have a notification for it once a week...? why can't i just have a notification every 40 days? such a basic feature, i'm confused\", rating=3), Review(package_name='com.habitnow', text='One of biggest issue is it doesnot show Sucess Graph or growth rate for daily task and routine Example if I done 3 task it should show me some growth and day after day But it doesnot 3 star', rating=2), Review(package_name='org.isoron.uhabits', text='Although your works is commendable but it lacks some features which should be integrated like , it should be linked with Google account or something suppose if am to delete this apk or I have to erase my phone than how will I track by progress my current streak or my database ,the substitue you gave to it is not that relevant.', rating=3), Review(package_name='org.isoron.uhabits', text=\"Widgets freeze often. Those are the main reason I use the app. There is no way to fix the widgets without restarting the phone, and you don't know how long that solution will last before having to do it again. Edit: Dropped from 2 to 1 star. Just can't get past the widgets almost never working.\", rating=1), Review(package_name='com.habitnow', text='Nice app but I never get any notification reminders for habits inspite of setting them. Also can only set 7 habits and tasks in the free version which is quite disappointing. Uninstalled.', rating=1), Review(package_name='com.finch.finch', text='I spent 602 daily expeditions with my birb. I had a paid version and/or was granted a guardian upgrade. This became so very overwhelming with all the confetti, colors, pop-ups, and whatnot. Buying clothes for the birb and designing their room is not a big motivator for me because that is not a long term value. Please embrace simplicity of design and/or grant more control to users. Confetti nonsense for EVERY completed task is overkill. Tree town was not embraced by my friends and family.', rating=3), Review(package_name='com.habitnow', text=\"It doesn't allow me to set the time of the task, only the time of the reminder. Need to be able to set two times, one for the task and one for the reminder.\", rating=2), Review(package_name='com.finch.finch', text=\"I lowered my rating because the app has become so difficult to use since there was an update which added a bunch of visual and audio effects which not only are incredibly irritating to experience with the eyes and ears but also cause so much lag that it impedes basic functionality. I had to turn off sounds in the app completely, which is sad and shouldn't be necessary. And there is no fixing the lag on my end. Y'all really messed this app up and it's so sad.\", rating=3), Review(package_name='com.habitnow', text=\"App is super good but the main thing that expected was the reminder for each and every task or habbit. So sometimes it worked but sometimes didn't. Then I was totally frustrated. I uninstalled this app 4 times and tried even changed my battery optimizer settings but didn't work !!!\", rating=2), Review(package_name='com.finch.finch', text=\"Unauthorized charge to my card. Didn't help with my mental health 😕\", rating=1), Review(package_name='org.isoron.uhabits', text='Really the app is very useful. I can use it to track my habits. Can form new habits and break bad habits. I am in the process of changing my bad habits and creating new ones. But missing a feature that should have been there. That is, the state of all my habits is not visible at once. Although the state of each habit can be seen separately, our state cannot be seen together.', rating=3), Review(package_name='com.finch.finch', text='I just downloaded this app and used it for like 5 min and it no longer works. Whenever I try to launch it I just get a forever black screen. I have tried resetting the app and my phone.', rating=1), Review(package_name='com.habitnow', text=\"It's a good app and helps you get more productive but I hate that the statistics doesn't have a separate section where you could see your progress in a day regardless of what habit you worked on. Like I want to see between all the habits how much productive time I had today but I can't. I have to count the time myself. I feel like it could be more simple with better features. The UX design of this app is awful\", rating=3), Review(package_name='com.finch.finch', text=\"Having to check in every time I open the app daunts me. It's harder and harder to energize your birb the longer you've been playing, and I know this sounds petty but I can never seem to get my birb to react the way I want it to to the questions and explorations. She likes the things I hate and vice versa! Sad. Overall I think this app would get you out of a rut but isn't good for anyone with chronic experiences.\", rating=3), Review(package_name='com.habitnow', text='There should be option of \"reason why task didn\\'t complete\" and that reason should be store. And in checklist, i set condition that every task should be completed for win, but i can\\'t see in calender that which day i skipped which task & that reason option also should be in app', rating=2), Review(package_name='org.isoron.uhabits', text=\"I love this app so much. Super useful to track my habits. 3 stars becausr after I updated my phone the checkmark widget doesn't work. It was my favorite feature from this app.\", rating=3), Review(package_name='org.isoron.uhabits', text='Please provide option for full day track also Other wise is ok ok app', rating=3), Review(package_name='com.finch.finch', text=\"It has to many notifications and doesn't do anything\", rating=2), Review(package_name='com.finch.finch', text=\"It's a very cute and helpful app but right now notification settings are broken. I've had push notifications for nearly every category shut off for months but have been getting slammed with notifications the last couple of days, even though they're still turned off.\", rating=2), Review(package_name='com.finch.finch', text='Sorry 🥺🥺 I deleted finch My name is Dhanashree My pet name is sweety I deleted finch bcoz I am adult and I am not to use this app Sorry sorry sorry 🥺🥺🥺', rating=3), Review(package_name='com.finch.finch', text=\"I loved this app and I used it for over 600 days. I swapped over phones and lost over a month of items. I lost my 145 day streak. I had the subscription for more than a full year and they couldn't do anything but give me 30 items for ALL I've lost. I'm genuinely so upset\", rating=1), Review(package_name='org.isoron.uhabits', text=\"What happened to the widget stack? .-. Why can't we stack them anymore :/\", rating=1), Review(package_name='org.isoron.uhabits', text='Notification issues. I like this app a lot, but every couple of weeks the notifications stop working, which, for me, defeats the purpose of the app.', rating=2), Review(package_name='org.isoron.uhabits', text=\"Man why did you increase the widget size from 1x1 to 1x2. It's practically unusable now.\", rating=1), Review(package_name='com.habitnow', text=\"Erases everything if I rotate screen/tap outside a text field/screen goes off! Can't switch to Recurring Task/Habit when adding a Task. Committed to picking either Task, Recurring Task or Habit from the start! Can only add Tasks from the widget. Prefer to see Notes/Desc when tapping an item in the widget - why have the tick mark circle now? It serves no purpose. Note/Desc behind too many taps. Handy if I could tap an item (instead of the circle) in the widget for this. Web version would be nice!\", rating=2), Review(package_name='com.habitnow', text=\"My notifications are not working. I see the high potential of the app but can't access it's benefits. Help please.\", rating=2), Review(package_name='org.isoron.uhabits', text=\"I'm not even getting a single reminder from this app after setting everything perfect....I don't understand whats the problem\", rating=2)], tool_id='call_mXDntRxVCOFSEhTDW5BmIdWy', timestamp=datetime.datetime(2024, 12, 12, 20, 40, 18, 975077, tzinfo=datetime.timezone.utc), role='tool-return')\n",
      "ModelStructuredResponse(calls=[ToolCall(tool_name='final_result', args=ArgsJson(args_json='{\"praised_features\":[\"Cute design and theme\",\"Self-care functionalities\",\"Effective for keeping on track\",\"Simple and straightforward task management\",\"Rewards and engaging elements\",\"Customization options\",\"Daily tracking\",\"Motivational elements\"],\"important_phrases\":[\"Daily self-care\",\"Stay on track every day\",\"Cute and fun way to manage tasks\",\"Turn mundane tasks into engaging activities\",\"Bring joy to personal development\",\"Motivate yourself with a micropet\",\"Effortlessly track habits and progress\",\"Simplified design for focus and clarity\"]}'), tool_id='call_dxzgapMCFlXYOf9JldkTs1DK')], timestamp=datetime.datetime(2024, 12, 12, 20, 40, 19, tzinfo=datetime.timezone.utc), role='model-structured-response')\n",
      "ToolReturn(tool_name='final_result', content='Final result processed.', tool_id='call_dxzgapMCFlXYOf9JldkTs1DK', timestamp=datetime.datetime(2024, 12, 12, 20, 40, 21, 649119, tzinfo=datetime.timezone.utc), role='tool-return')\n"
     ]
    }
   ]
  },
  {
   "cell_type": "code",
   "source": [
    "for item in marketing_result.data.praised_features:\n",
    "    print(f\"- {item}\")"
   ],
   "metadata": {
    "colab": {
     "base_uri": "https://localhost:8080/"
    },
    "id": "yODrUCl2x_Xh",
    "outputId": "b782d0cd-47fc-4534-e5ac-b666d8d3bdf3"
   },
   "execution_count": 21,
   "outputs": [
    {
     "output_type": "stream",
     "name": "stdout",
     "text": [
      "- Cute design and theme\n",
      "- Self-care functionalities\n",
      "- Effective for keeping on track\n",
      "- Simple and straightforward task management\n",
      "- Rewards and engaging elements\n",
      "- Customization options\n",
      "- Daily tracking\n",
      "- Motivational elements\n"
     ]
    }
   ]
  },
  {
   "cell_type": "code",
   "source": [
    "for item in marketing_result.data.important_phrases:\n",
    "    print(f\"- {item}\")"
   ],
   "metadata": {
    "colab": {
     "base_uri": "https://localhost:8080/"
    },
    "id": "OVJpA4eoySPY",
    "outputId": "469ec8a2-2d52-4d4c-e722-3a69fce1891b"
   },
   "execution_count": 22,
   "outputs": [
    {
     "output_type": "stream",
     "name": "stdout",
     "text": [
      "- Daily self-care\n",
      "- Stay on track every day\n",
      "- Cute and fun way to manage tasks\n",
      "- Turn mundane tasks into engaging activities\n",
      "- Bring joy to personal development\n",
      "- Motivate yourself with a micropet\n",
      "- Effortlessly track habits and progress\n",
      "- Simplified design for focus and clarity\n"
     ]
    }
   ]
  },
  {
   "cell_type": "code",
   "source": [
    "%%time\n",
    "\n",
    "prompt = f\"\"\"Propose an MVP based on these reports:\n",
    "\n",
    "# Improvements:\n",
    "\n",
    "common issues:\n",
    "{improvement_result.data.issues}\n",
    "\n",
    "feature requests:\n",
    "{improvement_result.data.feature_requests}\n",
    "\n",
    "# Marketing:\n",
    "\n",
    "praised features:\n",
    "{marketing_result.data.praised_features}\n",
    "\n",
    "important phrases:\n",
    "{marketing_result.data.important_phrases}\n",
    "\"\"\"\n",
    "\n",
    "planner_result = planner_agent.run_sync(prompt, deps=deps)"
   ],
   "metadata": {
    "colab": {
     "base_uri": "https://localhost:8080/"
    },
    "id": "2hsq61zf1RJx",
    "outputId": "850698b4-eb82-4fa1-e244-2305742ab827"
   },
   "execution_count": 23,
   "outputs": [
    {
     "output_type": "stream",
     "name": "stdout",
     "text": [
      "CPU times: user 36.1 ms, sys: 5.72 ms, total: 41.8 ms\n",
      "Wall time: 2.9 s\n"
     ]
    }
   ]
  },
  {
   "cell_type": "code",
   "source": [
    "for item in planner_result.data.app_names:\n",
    "    print(item)"
   ],
   "metadata": {
    "colab": {
     "base_uri": "https://localhost:8080/"
    },
    "id": "uPPOCd6a2vf_",
    "outputId": "3eee170b-5cc3-41ed-8874-5b94651efe3a"
   },
   "execution_count": 24,
   "outputs": [
    {
     "output_type": "stream",
     "name": "stdout",
     "text": [
      "HabitPal\n",
      "DailyJoy\n",
      "TrackerBee\n",
      "MotiVibe\n",
      "SelfCareSync\n"
     ]
    }
   ]
  },
  {
   "cell_type": "code",
   "source": [
    "for item in planner_result.data.marketing_copy.split(\"\\n\"):\n",
    "    print(f\"{textwrap.fill(item, 100)}\")"
   ],
   "metadata": {
    "colab": {
     "base_uri": "https://localhost:8080/"
    },
    "id": "TDWdKdqZZyZ-",
    "outputId": "aae53d6f-c627-4c1f-fbdf-0eb7227d5d9e"
   },
   "execution_count": 34,
   "outputs": [
    {
     "output_type": "stream",
     "name": "stdout",
     "text": [
      "Introducing DailyJoy, the cute and fun way to manage tasks and stay on track every day. With our\n",
      "unique approach to personal development, you can effortlessly track your habits and progress while\n",
      "enjoying a simplified design that brings joy to your self-care routine. Turn mundane tasks into\n",
      "engaging activities and boost your motivation with our delightful micropet feature that keeps you\n",
      "accountable and excited to achieve your goals.\n",
      "\n",
      "DailyJoy is designed with you in mind, ensuring that your personal development journey is enjoyable\n",
      "and straightforward. It offers the ability to customize reminders, track daily progress, and sync\n",
      "seamlessly across devices, all wrapped in a charming and user-friendly interface. Let's make self-\n",
      "care a joyous part of your daily life together!\n"
     ]
    }
   ]
  },
  {
   "cell_type": "code",
   "source": [
    "for item in planner_result.data.mvp_features:\n",
    "    print(f\"- {item}\")"
   ],
   "metadata": {
    "colab": {
     "base_uri": "https://localhost:8080/"
    },
    "id": "SUMzKO4-2yEF",
    "outputId": "6a97b764-fbdd-4f87-dc2b-722d6e8dbd1c"
   },
   "execution_count": 26,
   "outputs": [
    {
     "output_type": "stream",
     "name": "stdout",
     "text": [
      "- Ability to specify exact days for reminders\n",
      "- Implement data retention beyond one year\n",
      "- Simple design option without excessive animations\n",
      "- Syncing capability across devices\n",
      "- Landscaping mode support\n",
      "- Assign a specific date to each task\n",
      "- Daily percentage tracking feature\n"
     ]
    }
   ]
  },
  {
   "cell_type": "code",
   "source": [
    "for item in planner_result.data.possible_issues:\n",
    "    print(f\"- {item}\")"
   ],
   "metadata": {
    "colab": {
     "base_uri": "https://localhost:8080/"
    },
    "id": "hI57GthY209O",
    "outputId": "0958ce36-e461-4c07-d26f-9ae5896766f2"
   },
   "execution_count": 27,
   "outputs": [
    {
     "output_type": "stream",
     "name": "stdout",
     "text": [
      "- Data loss after one year of use\n",
      "- App crashes or freezes\n",
      "- Lack of account transfer functionality between devices\n",
      "- Poor widget functionality - frequently freezing\n",
      "- Inadequate notification handling\n",
      "- High premium pricing with limited features in the free version\n"
     ]
    }
   ]
  },
  {
   "cell_type": "code",
   "source": [
    "planner_result.all_messages()"
   ],
   "metadata": {
    "colab": {
     "base_uri": "https://localhost:8080/"
    },
    "id": "Sstu3q4B5MCp",
    "outputId": "ee9d6a49-862c-48d2-b030-8aa48ed9e415"
   },
   "execution_count": 28,
   "outputs": [
    {
     "output_type": "execute_result",
     "data": {
      "text/plain": [
       "[SystemPrompt(content=\"You're planning an MVP for new Todo/habit tracking app with focus on personal development app. You'll propose\\nthe best possible way to approach the process of building it.\", role='system'),\n",
       " UserPrompt(content=\"Propose an MVP based on these reports:\\n\\n# Improvements:\\n\\ncommon issues: \\n['Data loss after one year of use', 'Limited customization for habit reminders', 'App crashes or freezes', 'Lack of account transfer functionality between devices', 'Poor widget functionality - frequently freezing', 'Inadequate notification handling', 'High premium pricing with limited features in the free version']\\n\\nfeature requests:\\n['Add ability to specify exact days for reminders', 'Implement data retention beyond one year', 'Introduce a simple design option without excessive animations', 'Syncing capability across devices', 'Landscaping mode support', 'Option to assign a specific date to each task', 'Add a daily percentage tracking feature']\\n\\n# Marketing:\\n\\npraised features:\\n['Cute design and theme', 'Self-care functionalities', 'Effective for keeping on track', 'Simple and straightforward task management', 'Rewards and engaging elements', 'Customization options', 'Daily tracking', 'Motivational elements']\\n\\nimportant phrases:\\n['Daily self-care', 'Stay on track every day', 'Cute and fun way to manage tasks', 'Turn mundane tasks into engaging activities', 'Bring joy to personal development', 'Motivate yourself with a micropet', 'Effortlessly track habits and progress', 'Simplified design for focus and clarity']\\n\", timestamp=datetime.datetime(2024, 12, 12, 20, 40, 25, 397554, tzinfo=datetime.timezone.utc), role='user'),\n",
       " ModelStructuredResponse(calls=[ToolCall(tool_name='final_result', args=ArgsJson(args_json='{\"app_names\": [\"HabitPal\", \"DailyJoy\", \"TrackerBee\", \"MotiVibe\", \"SelfCareSync\"], \"marketing_copy\": \"Introducing DailyJoy, the cute and fun way to manage tasks and stay on track every day. With our unique approach to personal development, you can effortlessly track your habits and progress while enjoying a simplified design that brings joy to your self-care routine. Turn mundane tasks into engaging activities and boost your motivation with our delightful micropet feature that keeps you accountable and excited to achieve your goals.\\\\n\\\\nDailyJoy is designed with you in mind, ensuring that your personal development journey is enjoyable and straightforward. It offers the ability to customize reminders, track daily progress, and sync seamlessly across devices, all wrapped in a charming and user-friendly interface. Let\\'s make self-care a joyous part of your daily life together!\", \"mvp_features\": [\"Ability to specify exact days for reminders\", \"Implement data retention beyond one year\", \"Simple design option without excessive animations\", \"Syncing capability across devices\", \"Landscaping mode support\", \"Assign a specific date to each task\", \"Daily percentage tracking feature\"], \"possible_issues\": [\"Data loss after one year of use\", \"App crashes or freezes\", \"Lack of account transfer functionality between devices\", \"Poor widget functionality - frequently freezing\", \"Inadequate notification handling\", \"High premium pricing with limited features in the free version\"]}'), tool_id='call_c1Okw2EtAQkf1oUBX6U2kMFq')], timestamp=datetime.datetime(2024, 12, 12, 20, 40, 25, tzinfo=datetime.timezone.utc), role='model-structured-response'),\n",
       " ToolReturn(tool_name='final_result', content='Final result processed.', tool_id='call_c1Okw2EtAQkf1oUBX6U2kMFq', timestamp=datetime.datetime(2024, 12, 12, 20, 40, 28, 296521, tzinfo=datetime.timezone.utc), role='tool-return')]"
      ]
     },
     "metadata": {},
     "execution_count": 28
    }
   ]
  },
  {
   "cell_type": "markdown",
   "source": [
    "## Chat History"
   ],
   "metadata": {
    "id": "xJiuttB97jFa"
   }
  },
  {
   "cell_type": "code",
   "source": [
    "%%time\n",
    "planner_new_result = planner_agent.run_sync(\n",
    "    \"Focus the mvp features on the app functionality - habit tracking and tasks. Give a detailed explanation of the feature\",\n",
    "    message_history=planner_result.new_messages(),\n",
    "    deps=deps,\n",
    ")"
   ],
   "metadata": {
    "colab": {
     "base_uri": "https://localhost:8080/"
    },
    "id": "qjjSgr-v5bzg",
    "outputId": "573eff67-c60c-41e3-d8d3-a9905f7733d3"
   },
   "execution_count": 29,
   "outputs": [
    {
     "output_type": "stream",
     "name": "stdout",
     "text": [
      "CPU times: user 68.5 ms, sys: 2.36 ms, total: 70.8 ms\n",
      "Wall time: 4.44 s\n"
     ]
    }
   ]
  },
  {
   "cell_type": "code",
   "source": [
    "for item in planner_new_result.data.mvp_features:\n",
    "    print(f\"- {textwrap.fill(item, 100)}\")\n",
    "    print()"
   ],
   "metadata": {
    "colab": {
     "base_uri": "https://localhost:8080/"
    },
    "id": "nIs3Y1yX6GN0",
    "outputId": "2862e1cc-6fa1-45bb-f006-1275fc6b4d83"
   },
   "execution_count": 32,
   "outputs": [
    {
     "output_type": "stream",
     "name": "stdout",
     "text": [
      "- User-friendly habit tracking interface: A straightforward dashboard where users can add, edit, or\n",
      "delete habits and tasks, providing a visual overview of their progress and completion rates.\n",
      "\n",
      "- Customizable reminders: Users can specify exact days and times for reminders, with options for\n",
      "recurring alerts, ensuring they stay on track with their habits.\n",
      "\n",
      "- Progress tracking through daily percentage: A feature that allows users to see how much of their\n",
      "task they have completed each day, giving them insights into their behavior patterns and motivating\n",
      "them to improve.\n",
      "\n",
      "- Task assignment with specific due dates: Users can assign due dates to tasks to prioritize their\n",
      "personal development goals, making it easier to plan and stay organized.\n",
      "\n",
      "- Device synchronization: The app will support syncing across multiple devices, allowing users to\n",
      "access their habits and tasks on their phones, tablets, or computers anytime, anywhere.\n",
      "\n",
      "- Landscape mode support: A visually appealing layout that accommodates landscape mode, providing a\n",
      "comfortable viewing experience for users on tablets or larger screens.\n",
      "\n",
      "- Data retention and visualization: Users can view their habit tracking data over time, allowing them\n",
      "to see trends in their performance and make informed decisions about their personal development\n",
      "strategies.\n",
      "\n"
     ]
    }
   ]
  }
 ]
}